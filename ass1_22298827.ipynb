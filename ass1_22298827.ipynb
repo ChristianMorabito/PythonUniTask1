{
 "cells": [
  {
   "cell_type": "markdown",
   "id": "b1778b74e0aa1b1c",
   "metadata": {
    "collapsed": false,
    "jupyter": {
     "outputs_hidden": false
    }
   },
   "source": [
    "Name:          Christian Morabito\n",
    "\n",
    "Student ID:    22298827\n",
    "\n",
    "Last modified: 18/09/23\n",
    "\n",
    "Assessment for Monash Uni., ITO4133: Introduction. to Python. \n",
    "This program is a simple card where the user has to select\n",
    "a winning combination of cards against the computer."
   ]
  },
  {
   "cell_type": "markdown",
   "id": "da03838b9d735673",
   "metadata": {
    "collapsed": false,
    "jupyter": {
     "outputs_hidden": false
    }
   },
   "source": [
    "# Global Namespace"
   ]
  },
  {
   "cell_type": "code",
   "execution_count": null,
   "id": "39eea47981031736",
   "metadata": {
    "ExecuteTime": {
     "end_time": "2023-09-18T01:28:29.945804900Z",
     "start_time": "2023-09-18T01:28:29.836427200Z"
    },
    "collapsed": false,
    "jupyter": {
     "outputs_hidden": false
    }
   },
   "outputs": [],
   "source": [
    "import random as r\n",
    "\n",
    "SUITS_1 = [\"♥\", \"♦\", \"♣\", \"♠\"]\n",
    "SUITS_2 = [\"😃\", \"😈\", \"😵\", \"🤢\", \"😨\"]\n",
    "SUITS_3 = [\"🤡\", \"👹\", \"👺\", \"👻\", \"👽\", \"👾\", \"🤖\"]\n",
    "VALUES = [\"2\", \"3\", \"4\", \"5\", \"6\", \"7\", \"8\", \"9\", \"10\", \"J\", \"Q\", \"K\", \"A\"]\n",
    "suits = []\n",
    "deck = []\n",
    "player_hand = []\n",
    "bot_hand = []\n",
    "choice = []\n",
    "mid_card = \"\"\n",
    "picked_card = \"\"\n",
    "win_string = \"\"\n",
    "winner = {\"player\": False, \"bot\": False}\n",
    "main_loop = True\n",
    "game_started = False\n",
    "turn = 6"
   ]
  },
  {
   "cell_type": "markdown",
   "id": "256b5280",
   "metadata": {
    "collapsed": false,
    "jupyter": {
     "outputs_hidden": false
    }
   },
   "source": [
    "# Task 1. Game menu function\n",
    "*with accompanying functions*"
   ]
  },
  {
   "cell_type": "code",
   "execution_count": 17,
   "id": "7e92a3ce",
   "metadata": {
    "ExecuteTime": {
     "end_time": "2023-09-18T01:28:29.945804900Z",
     "start_time": "2023-09-18T01:28:29.852061500Z"
    }
   },
   "outputs": [],
   "source": [
    "def game_menu() -> None:\n",
    "    \"\"\" Func to print the game menu & all other game based notifications, depending on input & game state \"\"\"\n",
    "\n",
    "    if choice:  # if choice[] is not empty\n",
    "        if choice[0] == 6:  # if true, then exit game & end function\n",
    "            print(\"Exiting...\")\n",
    "            return\n",
    "        elif choice[0] == 1 and not game_started:  # if game hasn't started & player presses 1 to start the game,\n",
    "            print(\"\\n_______________🟢GAME HAS NOW BEGUN🟢______________\")\n",
    "            print(\"\\nYou selected the \" + (\"'default'\" if suits == SUITS_1 else\n",
    "                                           \"'expressions'\" if suits == SUITS_2 else\n",
    "                                           \"'wacky'\") + \" deck.\\n\")\n",
    "            print(deck_string())  # then print deck\n",
    "            print(\"The deck has now been shuffled. Game has begun!!\\nYou may pick a card up to 6 times, \"\n",
    "                  \"or 'check win/lose' to end the game earlier.\")\n",
    "\n",
    "    if game_started:\n",
    "        if 1 < choice[0] < 5:\n",
    "            print(\"\\n_____________🟢Game Currently Running🟢____________\")\n",
    "        if choice[0] == 2:  # card picked from deck\n",
    "            print(\"\\nCard Selected:\\tYou picked \" + picked_card)\n",
    "        elif choice[0] == 3:  # deck shuffled\n",
    "            print(\"\\n\" + deck_string())\n",
    "            print(\"\\n~^~Cards sHuFfLeD~^~\", end=\"\")\n",
    "        elif choice[0] == 4:  # print player's hand of cards\n",
    "            print(\"\\nYour current hand is \", end=\"\")\n",
    "            show_cards(player_hand)\n",
    "        elif choice[0] == 5:  # game has ended, win/loss is checked\n",
    "            print(\"\\n___________________🔵GAME OVER🔵__________________\")\n",
    "            print(win_string)  # print the string of info declaring the winner, reason & score\n",
    "            if player_hand and bot_hand:  # only print player's & bot's cards, if neither were empty\n",
    "                print(f\"🔷 PLAYER hand:\\t\", end=\"\")\n",
    "                show_cards(player_hand)\n",
    "                print(f\"🔷 BOT hand:\\t\", end=\"\")\n",
    "                show_cards(bot_hand)\n",
    "\n",
    "        if 1 < choice[0] < 5:  # only show turn count if input is between 2 & 4 (inclusive)\n",
    "            print(\"\\n♥ \" + (f\"You have {turn} turns left\" if turn > 1 else \"You have 1 last turn!\") + \" ♥\")\n",
    "\n",
    "    if choice:\n",
    "        if game_started and choice[0] > 1 or (not game_started and choice[0] == 1):\n",
    "            input(\"\\nPress ENTER ⏎ \\n\")  # prevent 'next turn' screen from printing\n",
    "\n",
    "    # print title, suit options &/or game state msgs pertaining to the next turn\n",
    "    print(game_state_string(None if not choice else choice[0]))"
   ]
  },
  {
   "cell_type": "code",
   "execution_count": null,
   "id": "bb81a750-c933-4d59-a7b2-004bec11e47e",
   "metadata": {
    "ExecuteTime": {
     "end_time": "2023-09-18T01:28:29.961430900Z",
     "start_time": "2023-09-18T01:28:29.867683100Z"
    },
    "collapsed": false,
    "jupyter": {
     "outputs_hidden": false
    }
   },
   "outputs": [],
   "source": [
    "def game_state_string(choice_arg) -> str:\n",
    "    \"\"\"\n",
    "    Func to return a string of: title, suit options & game msgs, based on input & game state.\n",
    "    :param choice_arg: accepts int that represents the choice input from game_menu() function\n",
    "    :return returns string to print\n",
    "    \"\"\"\n",
    "\n",
    "    title = \"\"\"\n",
    "    ▒█▀▀█ ░█▀▀█ ▒█▀▀█ ▒█▀▀▄ 　 ▒█▀▀█ ░█▀▀█ ▒█▀▄▀█ ▒█▀▀▀ \n",
    "    ▒█░░░ ▒█▄▄█ ▒█▄▄▀ ▒█░▒█ 　 ▒█░▄▄ ▒█▄▄█ ▒█▒█▒█ ▒█▀▀▀ \n",
    "    ▒█▄▄█ ▒█░▒█ ▒█░▒█ ▒█▄▄▀ 　 ▒█▄▄█ ▒█░▒█ ▒█░░▒█ ▒█▄▄▄\n",
    "                      ...verse against the computer...\\n\"\"\"\n",
    "    # reference: https://fsymbols.com/generators/carty/\n",
    "\n",
    "    main_option = (\"Welcome to card game. You have the following options\\n\"\n",
    "                   \"1. start game (+ OPTIONS ALLOWED)\\n\"\n",
    "                   \"2. pick a card\\n\"\n",
    "                   \"3. shuffle deck\\n\"\n",
    "                   \"4. show my cards\\n\"\n",
    "                   \"5. check win/lose\\n\"\n",
    "                   \"6. exit\\n\")\n",
    "\n",
    "    suit_option = (\"OPTIONS: select between 3 different suit types\\n\"\n",
    "                   \"Type: 1 1 for default:     ♥ ♦ ♣ ♠\\n\"\n",
    "                   \"      1 2 for expressions: 😃 😈 😵 🤢 😨\\n\"\n",
    "                   \"      1 3 for wacky:       🤡 👹 👺 👻 👽 👾 🤖\\n\")\n",
    "\n",
    "    game_running = \"\\n_____________🟢Game Currently Running🟢____________\\n\"\n",
    "    game_already_started = \"\\n_____________🚨Game ALREADY started!🚨______________\\n\"\n",
    "    game_not_started = \"\\n_______________🚨Game NOT started!🚨________________\\n\"\n",
    "    line = \"___________________________________________________________\\n\"\n",
    "\n",
    "    if choice_arg == 1 and game_started:  # if player presses '1' to start game when game has already started\n",
    "        return game_already_started + main_option\n",
    "    elif not choice_arg or turn == 0:  # if game hasn't started, so title & suit options are presented\n",
    "        return line + title + line + main_option + \"\\n\" + suit_option\n",
    "    elif 1 < choice_arg < 6 and not game_started:  # if player is attempting to make a choice when game hasn't started\n",
    "        return game_not_started + main_option + suit_option\n",
    "    else:\n",
    "        return game_running + main_option  # if player makes valid choice whilst game is running"
   ]
  },
  {
   "cell_type": "code",
   "execution_count": null,
   "id": "fbd17c1a-ee80-499a-97df-72bf459d6e61",
   "metadata": {
    "ExecuteTime": {
     "end_time": "2023-09-18T01:28:29.961430900Z",
     "start_time": "2023-09-18T01:28:29.867683100Z"
    },
    "collapsed": false,
    "jupyter": {
     "outputs_hidden": false
    }
   },
   "outputs": [],
   "source": [
    "def deck_string() -> str:\n",
    "    \"\"\"\n",
    "    Function return a string which elegantly presents the deck.\n",
    "    :return returns string to print\n",
    "    \"\"\"\n",
    "\n",
    "    text_and_deck = \"\"\n",
    "\n",
    "    for i, card in enumerate(deck):  # loop to elegantly present the deck of cards.\n",
    "        text_and_deck += (card + \"  \\t\") if i == 0 or i % len(VALUES) != len(VALUES) - 1 else (card + \"\\n\")\n",
    "\n",
    "    return text_and_deck"
   ]
  },
  {
   "cell_type": "markdown",
   "id": "ec6c0d3e",
   "metadata": {},
   "source": [
    "# Task 2. Create Deck function"
   ]
  },
  {
   "cell_type": "code",
   "execution_count": null,
   "id": "613053a5",
   "metadata": {
    "ExecuteTime": {
     "end_time": "2023-09-18T01:28:29.961430900Z",
     "start_time": "2023-09-18T01:28:29.883307600Z"
    }
   },
   "outputs": [],
   "source": [
    "def create_deck(deck, suits, values) -> None:\n",
    "    \"\"\"\n",
    "    Func to create deck[] based on suits[] selected & values.\n",
    "    Note: deck, suits & values are references to global variables\n",
    "    :param deck: empty list to hold the deck of cards\n",
    "    :param suits: list of suits that player chose\n",
    "    :param values: list of default values to merge with suits\n",
    "    \"\"\"\n",
    "\n",
    "    deck.extend([f\"{value}{card}\" for card in suits for value in values])"
   ]
  },
  {
   "cell_type": "markdown",
   "id": "77ce0085",
   "metadata": {},
   "source": [
    "# Task 3. Shuffle Deck function"
   ]
  },
  {
   "cell_type": "code",
   "execution_count": null,
   "id": "066e304c",
   "metadata": {
    "ExecuteTime": {
     "end_time": "2023-09-18T01:28:29.961430900Z",
     "start_time": "2023-09-18T01:28:29.898929200Z"
    }
   },
   "outputs": [],
   "source": [
    "def shuffle_deck(deck, suits) -> None:\n",
    "    \"\"\"\n",
    "    Func to place 'A_1st_suit, Q_mid_suit, & K_last_suit in the\n",
    "    1st, mid & last positions of the deck. Once done, then all cards\n",
    "    but those 3 are shuffled.\n",
    "    :param deck: accepts deck list (str)\n",
    "    :param suits: accepts suits list (str)\n",
    "    \"\"\"\n",
    "\n",
    "    global mid_card\n",
    "    low, mid, high = 0, (len(deck) + 1) // 2, len(deck) - 1  # establish L/M/H points in the deck\n",
    "    if suits and not game_started:  # this condition is only true once deck is 1st created\n",
    "        low_suits, mid_suits, high_suits = 0, (len(suits) - 1) // 2, len(suits) - 1  # establish L/M/H points in suits  [\"♥\", \"♦\", \"♣\", \"♠\"] \n",
    "        a_card = deck.index(\"A\" + suits[low_suits])  # declare variables to hold these 3 cards\n",
    "        q_card = deck.index(\"Q\" + suits[mid_suits])\n",
    "        k_card = deck.index(\"K\" + suits[high_suits])\n",
    "        deck[low], deck[a_card] = deck[a_card], deck[low]  # place the 3 cards in appropriate positions within the deck\n",
    "        deck[mid], deck[q_card] = deck[q_card], deck[mid]\n",
    "        deck[high], deck[k_card] = deck[k_card], deck[high]\n",
    "        mid_card = deck[mid]\n",
    "\n",
    "    if game_started:  # this condition is only true when player has started the game & wants to manually shuffle\n",
    "        temp_deck = deck[low + 1:high]  # create temp deck which is a copy of deck, but avoiding 1st & last cards\n",
    "        r.shuffle(temp_deck)  # shuffle the temp deck\n",
    "        temp_deck = [deck[low]] + temp_deck + [deck[high]]  # place the 1st & last cards from deck into temp deck\n",
    "        deck.clear()  # erase contents of deck\n",
    "        deck.extend(temp_deck)  # fill deck with temp deck contents\n",
    "        q_card = deck.index(mid_card)  # find the new index of the original middle card\n",
    "        deck[q_card], deck[mid] = deck[mid], deck[q_card]  # swap it back into the middle"
   ]
  },
  {
   "cell_type": "markdown",
   "id": "1ba567ed",
   "metadata": {},
   "source": [
    "# Task 4. Pick Card function"
   ]
  },
  {
   "cell_type": "code",
   "execution_count": null,
   "id": "e95cb03c",
   "metadata": {
    "ExecuteTime": {
     "end_time": "2023-09-18T01:28:29.961430900Z",
     "start_time": "2023-09-18T01:28:29.914559400Z"
    }
   },
   "outputs": [],
   "source": [
    "def pick_card(deck) -> str:\n",
    "    \"\"\"\n",
    "    Func to remove card from the deck & return it\n",
    "    :param deck: accepts deck list\n",
    "    :return: returns string of removed card\n",
    "    \"\"\"\n",
    "\n",
    "    global turn, game_started\n",
    "    if not game_started:\n",
    "        return \"\"\n",
    "\n",
    "    def avoid_mid_card():\n",
    "        \"\"\"This function ensures that the middle card is not collected\"\"\"\n",
    "\n",
    "        while True:\n",
    "            # random_int is an index from 2nd card to 2nd last card (inc.)\n",
    "            # this is to avoid the special 1st & last cards\n",
    "            random_int = r.randint(1, len(deck) - 2)\n",
    "            card = deck[random_int]\n",
    "            if card != mid_card:  # loop is only exited if selected card is not the special middle card.\n",
    "                break\n",
    "        return card, random_int\n",
    "\n",
    "    player_card, player_rand = avoid_mid_card()  # call function & receive outputted card string & card index\n",
    "    player_hand.append(player_card)  # use card string to add to player cards\n",
    "    popped_card = deck.pop(player_rand)  # remove card from deck\n",
    "\n",
    "    if r.randint(0, 4) != 2:  # 20% chance of bot not selecting a card\n",
    "        bot_card, bot_rand = avoid_mid_card()\n",
    "        bot_hand.append(bot_card)\n",
    "        deck.pop(bot_rand)\n",
    "    turn -= 1\n",
    "\n",
    "    return popped_card"
   ]
  },
  {
   "cell_type": "markdown",
   "id": "346092bb",
   "metadata": {},
   "source": [
    "# Task 5. Show Cards function\n"
   ]
  },
  {
   "cell_type": "code",
   "execution_count": null,
   "id": "acb0fc77",
   "metadata": {
    "ExecuteTime": {
     "end_time": "2023-09-18T01:28:29.961430900Z",
     "start_time": "2023-09-18T01:28:29.930184400Z"
    }
   },
   "outputs": [],
   "source": [
    "def show_cards(player_cards) -> None:\n",
    "    \"\"\"\n",
    "    Func to print the list 'player_cards' as a formatted string\n",
    "    @param player_cards: accepts list of player cards\n",
    "    \"\"\"\n",
    "\n",
    "    # prints cards as a string, 1 space between each card. If list is empty, then prints 'empty'.\n",
    "    print(\" \".join(player_cards) if player_cards else \"empty.\")"
   ]
  },
  {
   "cell_type": "markdown",
   "id": "3b2804c1",
   "metadata": {},
   "source": [
    "# Task 6. Check Result function\n",
    "*with accompanying functions*"
   ]
  },
  {
   "cell_type": "code",
   "execution_count": null,
   "id": "cdc3f901",
   "metadata": {
    "ExecuteTime": {
     "end_time": "2023-09-18T01:28:29.961430900Z",
     "start_time": "2023-09-18T01:28:29.945804900Z"
    }
   },
   "outputs": [],
   "source": [
    "def check_result(player_cards, robot_cards, suits) -> bool:\n",
    "    \"\"\"\n",
    "    Func to return boolean based on player's win-state.\n",
    "    @param player_cards: accepts list (str) of player's held card\n",
    "    @param robot_cards: accepts list (str) of bot's held card\n",
    "    @param suits: accepts list (str) of the selected suits\n",
    "    @return: returns boolean based on player's win-state\n",
    "    \"\"\"\n",
    "\n",
    "    def priority_order():\n",
    "        \"\"\"\n",
    "        Nested function to sequentially compare the combination\n",
    "        of cards held by the player and the robot to determine if\n",
    "        the player has won the game order of priority:\n",
    "        Rule 1 > Rule 2 > Rule 3 > Rule 4\n",
    "        @return: returns None\n",
    "        \"\"\"\n",
    "\n",
    "        # First check if player/bot have empty hands.\n",
    "        if winner_check(not player_cards, \"bot\") or winner_check(not robot_cards, \"player\"):\n",
    "            return win_reason(None)\n",
    "\n",
    "        # RULE 1 & RULE 2 check:\n",
    "        if len(player_cards) >= len(suits):  # rule can only be checked if this is true\n",
    "            player_suit_value_count = suit_value_check(player_cards)  # returns int\n",
    "            bot_suit_value_count = suit_value_check(robot_cards)  # returns int\n",
    "\n",
    "            # RULE 1: player holds the same value card for all the defined suits\n",
    "            if (winner_check(player_suit_value_count == len(suits), \"player\") or\n",
    "                    winner_check(bot_suit_value_count == len(suits), \"bot\")):  # if either are True, func ends\n",
    "                return win_reason(\"held the same value card for all defined suits.\")\n",
    "\n",
    "            # RULE 2: player holds the same value card for all the defined suits, minus 1\n",
    "            if (winner_check(player_suit_value_count == len(suits) - 1, \"player\") or\n",
    "                    winner_check(bot_suit_value_count == len(suits) - 1, \"bot\")):  # if either are True, func ends\n",
    "                return win_reason(f\"held the same value card for {len(suits) - 1} consecutive suits.\")\n",
    "\n",
    "        # RULE 3: check\n",
    "        if len(player_cards) > 2:  # rule can only be checked if this is true\n",
    "            # RULE 3: player holds more cards from the suit in position 2.\n",
    "            player_suit_count = len([item for item in player_cards[2:] if item[-1] == player_cards[1][-1]])\n",
    "            bot_suit_count = len([item for item in robot_cards[2:] if item[-1] == robot_cards[1][-1]])\n",
    "            if player_suit_count != bot_suit_count:  # if True, func ends\n",
    "                (winner_check(player_suit_count > bot_suit_count, \"player\") if True else\n",
    "                 winner_check(True, \"bot\"))\n",
    "                return win_reason(\"held more '2nd position suit' cards.\")\n",
    "\n",
    "        player_score, bot_score = score_count(player_cards), score_count(robot_cards)\n",
    "        winner_check(player_score >= bot_score, \"player\") if True else winner_check(True, \"bot\")\n",
    "\n",
    "        # RULE 4: player holds a higher average of the card’s value\n",
    "        reason = \"\"\n",
    "        if player_score != bot_score:\n",
    "            higher_score, lower_score = max(player_score, bot_score), min(player_score, bot_score)\n",
    "            reason += (f\"held a higher score of {round(higher_score, 2)};\\n\" +\n",
    "                       (f\"you \" if player_score < bot_score else \"bot \") +\n",
    "                       f\"held a lower score of {round(lower_score, 2)}.\")\n",
    "        else:\n",
    "            reason += ('drew with the bot,\\nso you are \"technically\" still the \"winner\".\\n'\n",
    "                       f'You both scored {round(player_score, 2)}.')\n",
    "        return win_reason(reason)\n",
    "\n",
    "    priority_order()  # call the nested function\n",
    "    return winner[\"player\"]"
   ]
  },
  {
   "cell_type": "code",
   "execution_count": null,
   "id": "7d905ce3-5fa7-49dd-a40d-0764b25c2699",
   "metadata": {
    "ExecuteTime": {
     "end_time": "2023-09-18T01:28:30.008311600Z",
     "start_time": "2023-09-18T01:28:29.961430900Z"
    },
    "collapsed": false,
    "jupyter": {
     "outputs_hidden": false
    }
   },
   "outputs": [],
   "source": [
    "def suit_value_check(hand) -> int:\n",
    "    \"\"\"\n",
    "    Func to count the no. of times a player holds\n",
    "    the same value card for all the defined suits\n",
    "    @param hand: accepts a list of cards (str) to check\n",
    "    @return: returns a count as an int\n",
    "    \"\"\"\n",
    "\n",
    "    # 1) dict. comprehension below creates a dictionary that holds each card value & and pairs it with set()\n",
    "    # e.g. hand = ['A♥', '5♦', '8♣', '10♠']; hand_values = {'A': set(), '5': set(), '8': set(), '10': set()}\n",
    "    hand_values = {card[:-1]: set() for card in hand}\n",
    "    count = 0\n",
    "    for i, value in enumerate(hand_values):\n",
    "        for j in range(i, len(hand)):\n",
    "            curr_value, curr_suit = hand[j][:-1], hand[j][-1]  # eg. in ['A♥'], curr_value == 'A'; curr_suit == '♥'\n",
    "            if value == curr_value:\n",
    "                # add the curr_suit into the set() of the dict. key -> curr_value\n",
    "                hand_values[value].add(curr_suit)\n",
    "        # record if this is the largest count thus far.\n",
    "        count = max(count, len(hand_values[value]))\n",
    "    return count"
   ]
  },
  {
   "cell_type": "code",
   "execution_count": null,
   "id": "35c7d2a9-17c3-46be-84bd-bbd83c0f7c11",
   "metadata": {
    "ExecuteTime": {
     "end_time": "2023-09-18T01:28:30.008311600Z",
     "start_time": "2023-09-18T01:28:29.961430900Z"
    },
    "collapsed": false,
    "jupyter": {
     "outputs_hidden": false
    }
   },
   "outputs": [],
   "source": [
    "def score_count(hand):\n",
    "    \"\"\"\n",
    "    Func to return the score of the inputted hand.\n",
    "    The score is the average\n",
    "    @param hand: accepts a list of cards (str) to check\n",
    "    @return: returns the average as an int\n",
    "    \"\"\"\n",
    "\n",
    "    # dict. below is used to assign a number with the card value, if the card value is a letter (not digit).\n",
    "    face = {\"A\": 1, \"J\": 11, \"Q\": 12, \"K\": 13}\n",
    "    count = 0\n",
    "    for card in hand:\n",
    "        value = card[:-1]  # e.g. if card == 'A♥', then card[:-1] == 'A'; therefore value == 'A'\n",
    "        # if value is digit, e.g. '5', then convert to str; if not digit ('face value'), then refer to dict face value\n",
    "        count += int(value) if value.isdigit() else face[value]\n",
    "    return count / len(hand)  # returns average"
   ]
  },
  {
   "cell_type": "code",
   "execution_count": null,
   "id": "a9358313-67f9-490b-9c7d-a885620c09ca",
   "metadata": {
    "ExecuteTime": {
     "end_time": "2023-09-18T01:28:30.008311600Z",
     "start_time": "2023-09-18T01:28:29.961430900Z"
    },
    "collapsed": false,
    "jupyter": {
     "outputs_hidden": false
    }
   },
   "outputs": [],
   "source": [
    "def winner_check(condition, player) -> bool:\n",
    "    \"\"\"\n",
    "    Func to return simple boolean based on player's win state.\n",
    "    @param condition: condition is a boolean expression\n",
    "    @param player: player refers to either 'player' or 'bot'\n",
    "    @return: returns True or False depending on win state.\n",
    "    \"\"\"\n",
    "\n",
    "    winner[player] = condition  # returns True or False, depending on condition expression.\n",
    "    return condition"
   ]
  },
  {
   "cell_type": "code",
   "execution_count": null,
   "id": "f886bed9-cfb6-4f88-8409-d1de06252b35",
   "metadata": {
    "ExecuteTime": {
     "end_time": "2023-09-18T01:28:30.008311600Z",
     "start_time": "2023-09-18T01:28:29.961430900Z"
    },
    "collapsed": false,
    "jupyter": {
     "outputs_hidden": false
    }
   },
   "outputs": [],
   "source": [
    "def win_reason(reason):\n",
    "    \"\"\"\n",
    "    Func to create a string message, based on the win/loss state of the game.\n",
    "    @param reason: accepts string which gives reason for win/loss\n",
    "    \"\"\"\n",
    "\n",
    "    global win_string\n",
    "\n",
    "    win_string += (\"\\n\" + (\"😊___YOU ARE THE WINNER___😊\" if winner[\"player\"] else \"☹️_____YOU LOST_____☹️\") +\n",
    "                   \"\\n\")\n",
    "\n",
    "    if not reason:\n",
    "        win_string += \"You had an empty hand.\" if winner[\"bot\"] else \"Bot had an empty hand.\"\n",
    "    else:\n",
    "        win_string += (\"You \" if winner[\"player\"] else \"Bot \") + reason"
   ]
  },
  {
   "cell_type": "markdown",
   "id": "5fa34e7c",
   "metadata": {},
   "source": [
    "# Task 7. Play Game function\n",
    "*with accompanying functions*"
   ]
  },
  {
   "cell_type": "code",
   "execution_count": null,
   "id": "f0e7cb97baf28f00",
   "metadata": {
    "ExecuteTime": {
     "end_time": "2023-09-18T01:28:30.008311600Z",
     "start_time": "2023-09-18T01:28:29.977054800Z"
    },
    "collapsed": false,
    "jupyter": {
     "outputs_hidden": false
    }
   },
   "outputs": [],
   "source": [
    "def play_game() -> None:\n",
    "    \"\"\"\n",
    "    Function to control player input & manage all aspects of the game play.\n",
    "    This function calls the subsequent functions pertaining to player input.\n",
    "    \"\"\"\n",
    "\n",
    "    global turn, game_started, main_loop, picked_card, choice\n",
    "    pick = []  # this list holds player input\n",
    "\n",
    "    while True:\n",
    "        try:\n",
    "            player_input = input(\"Please enter your selection: \").strip().split(\" \", 1)\n",
    "            first_input = int(player_input[0])\n",
    "            if 0 < first_input < 7:\n",
    "                pick.append(first_input)\n",
    "                break\n",
    "            else:\n",
    "                print(\"Out of range! Try again...\")\n",
    "        except ValueError:\n",
    "            print(\"Invalid input! Try again...\")\n",
    "\n",
    "    if pick[0] == 1:  # player opts to start the game\n",
    "        second_input = 1\n",
    "        pick.append(second_input)\n",
    "\n",
    "        if pick[0] == 1 and len(player_input) > 1:\n",
    "            try:\n",
    "                if 1 < int(player_input[1]) < 4:\n",
    "                    second_input = int(player_input[1])\n",
    "            except ValueError:\n",
    "                pass\n",
    "            finally:\n",
    "                pick[1] = second_input\n",
    "\n",
    "        if not game_started:  # deck is created once when player enters '1' to start the game\n",
    "            suits.extend(SUITS_1 if pick[1] == 1 else SUITS_2 if pick[1] == 2 else SUITS_3)\n",
    "            create_deck(deck, suits, VALUES)\n",
    "\n",
    "    elif pick[0] == 2:  # player opts to pick a card\n",
    "        picked_card = pick_card(deck)\n",
    "    elif pick[0] == 3:  # player opts to shuffle deck\n",
    "        shuffle_deck(deck, suits)\n",
    "    elif pick[0] == 6:  # player opts to exit program\n",
    "        main_loop = False\n",
    "\n",
    "    # player opts to end current game to check if winner or loser\n",
    "    if game_started and (turn == 0 or pick[0] == 5):\n",
    "        check_result(player_hand, bot_hand, suits)\n",
    "        turn = 0  # force turn variable to 0 to end game.\n",
    "\n",
    "    choice = [5] if turn == 0 else pick  # sets global variable of player choice, based on game state\n",
    "    game_menu()  # calls the game menu function to print messages & gfx onto the screen\n",
    "\n",
    "    if not game_started and pick[0] == 1:  # deck is shuffled implicitly only once, when game has begun.\n",
    "        shuffle_deck(deck, suits)\n",
    "        game_started = True  # global variable is updated"
   ]
  },
  {
   "cell_type": "code",
   "execution_count": null,
   "id": "45646ef250783daf",
   "metadata": {
    "ExecuteTime": {
     "end_time": "2023-09-18T01:28:30.008311600Z",
     "start_time": "2023-09-18T01:28:29.992684200Z"
    },
    "collapsed": false,
    "jupyter": {
     "outputs_hidden": false
    }
   },
   "outputs": [],
   "source": [
    "def reset():\n",
    "    \"\"\" Func to reset all global variables so player can play another round. \"\"\"\n",
    "\n",
    "    global suits, deck, mid_card, player_hand, bot_hand, winner, \\\n",
    "        game_started, turn, win_string, picked_card, choice\n",
    "\n",
    "    suits.clear()\n",
    "    deck.clear()\n",
    "    mid_card = \"\"\n",
    "    player_hand.clear()\n",
    "    bot_hand.clear()\n",
    "    winner[\"player\"] = False\n",
    "    winner[\"bot\"] = False\n",
    "    game_started = False\n",
    "    turn = 6\n",
    "    win_string = \"\"\n",
    "    picked_card = \"\""
   ]
  },
  {
   "cell_type": "markdown",
   "id": "e41e571ea415962e",
   "metadata": {
    "collapsed": false,
    "jupyter": {
     "outputs_hidden": false
    }
   },
   "source": [
    "# Main Function"
   ]
  },
  {
   "cell_type": "code",
   "execution_count": 19,
   "id": "43e158e0fc3d4b4d",
   "metadata": {
    "collapsed": false,
    "jupyter": {
     "outputs_hidden": false
    }
   },
   "outputs": [
    {
     "name": "stdout",
     "output_type": "stream",
     "text": [
      "\n",
      "_______________🟢GAME HAS NOW BEGUN🟢______________\n",
      "\n",
      "You selected the 'default' deck.\n",
      "\n",
      "2♥  \t3♥  \t4♥  \t5♥  \t6♥  \t7♥  \t8♥  \t9♥  \t10♥  \tJ♥  \tQ♥  \tK♥  \tA♥\n",
      "2♦  \t3♦  \t4♦  \t5♦  \t6♦  \t7♦  \t8♦  \t9♦  \t10♦  \tJ♦  \tQ♦  \tK♦  \tA♦\n",
      "2♣  \t3♣  \t4♣  \t5♣  \t6♣  \t7♣  \t8♣  \t9♣  \t10♣  \tJ♣  \tQ♣  \tK♣  \tA♣\n",
      "2♠  \t3♠  \t4♠  \t5♠  \t6♠  \t7♠  \t8♠  \t9♠  \t10♠  \tJ♠  \tQ♠  \tK♠  \tA♠\n",
      "\n",
      "The deck has now been shuffled. Game has begun!!\n",
      "You may pick a card up to 6 times, or 'check win/lose' to end the game earlier.\n"
     ]
    },
    {
     "ename": "KeyboardInterrupt",
     "evalue": "Interrupted by user",
     "output_type": "error",
     "traceback": [
      "\u001b[1;31m---------------------------------------------------------------------------\u001b[0m",
      "\u001b[1;31mKeyboardInterrupt\u001b[0m                         Traceback (most recent call last)",
      "Cell \u001b[1;32mIn[19], line 11\u001b[0m\n\u001b[0;32m      8\u001b[0m             reset()\n\u001b[0;32m     10\u001b[0m \u001b[38;5;28;01mif\u001b[39;00m \u001b[38;5;18m__name__\u001b[39m \u001b[38;5;241m==\u001b[39m \u001b[38;5;124m'\u001b[39m\u001b[38;5;124m__main__\u001b[39m\u001b[38;5;124m'\u001b[39m:\n\u001b[1;32m---> 11\u001b[0m     \u001b[43mmain\u001b[49m\u001b[43m(\u001b[49m\u001b[43m)\u001b[49m\n",
      "Cell \u001b[1;32mIn[19], line 4\u001b[0m, in \u001b[0;36mmain\u001b[1;34m()\u001b[0m\n\u001b[0;32m      1\u001b[0m \u001b[38;5;28;01mdef\u001b[39;00m \u001b[38;5;21mmain\u001b[39m():\n\u001b[0;32m      2\u001b[0m \u001b[38;5;250m    \u001b[39m\u001b[38;5;124;03m\"\"\" Main function acts as execution point for the program \"\"\"\u001b[39;00m\n\u001b[1;32m----> 4\u001b[0m     \u001b[43mgame_menu\u001b[49m\u001b[43m(\u001b[49m\u001b[43m)\u001b[49m\n\u001b[0;32m      5\u001b[0m     \u001b[38;5;28;01mwhile\u001b[39;00m main_loop:\n\u001b[0;32m      6\u001b[0m         play_game()\n",
      "Cell \u001b[1;32mIn[17], line 42\u001b[0m, in \u001b[0;36mgame_menu\u001b[1;34m()\u001b[0m\n\u001b[0;32m     40\u001b[0m \u001b[38;5;28;01mif\u001b[39;00m choice:\n\u001b[0;32m     41\u001b[0m     \u001b[38;5;28;01mif\u001b[39;00m game_started \u001b[38;5;129;01mand\u001b[39;00m choice[\u001b[38;5;241m0\u001b[39m] \u001b[38;5;241m>\u001b[39m \u001b[38;5;241m1\u001b[39m \u001b[38;5;129;01mor\u001b[39;00m (\u001b[38;5;129;01mnot\u001b[39;00m game_started \u001b[38;5;129;01mand\u001b[39;00m choice[\u001b[38;5;241m0\u001b[39m] \u001b[38;5;241m==\u001b[39m \u001b[38;5;241m1\u001b[39m):\n\u001b[1;32m---> 42\u001b[0m         \u001b[38;5;28;43minput\u001b[39;49m\u001b[43m(\u001b[49m\u001b[38;5;124;43m\"\u001b[39;49m\u001b[38;5;130;43;01m\\n\u001b[39;49;00m\u001b[38;5;124;43mPress ENTER ⏎ \u001b[39;49m\u001b[38;5;130;43;01m\\n\u001b[39;49;00m\u001b[38;5;124;43m\"\u001b[39;49m\u001b[43m)\u001b[49m  \u001b[38;5;66;03m# prevent 'next turn' screen from printing\u001b[39;00m\n\u001b[0;32m     44\u001b[0m \u001b[38;5;66;03m# print title, suit options &/or game state msgs pertaining to the next turn\u001b[39;00m\n\u001b[0;32m     45\u001b[0m \u001b[38;5;28mprint\u001b[39m(game_state_string(\u001b[38;5;28;01mNone\u001b[39;00m \u001b[38;5;28;01mif\u001b[39;00m \u001b[38;5;129;01mnot\u001b[39;00m choice \u001b[38;5;28;01melse\u001b[39;00m choice[\u001b[38;5;241m0\u001b[39m]))\n",
      "File \u001b[1;32m~\\AppData\\Local\\Programs\\Python\\Python39\\lib\\site-packages\\ipykernel\\kernelbase.py:1202\u001b[0m, in \u001b[0;36mKernel.raw_input\u001b[1;34m(self, prompt)\u001b[0m\n\u001b[0;32m   1200\u001b[0m     msg \u001b[38;5;241m=\u001b[39m \u001b[38;5;124m\"\u001b[39m\u001b[38;5;124mraw_input was called, but this frontend does not support input requests.\u001b[39m\u001b[38;5;124m\"\u001b[39m\n\u001b[0;32m   1201\u001b[0m     \u001b[38;5;28;01mraise\u001b[39;00m StdinNotImplementedError(msg)\n\u001b[1;32m-> 1202\u001b[0m \u001b[38;5;28;01mreturn\u001b[39;00m \u001b[38;5;28;43mself\u001b[39;49m\u001b[38;5;241;43m.\u001b[39;49m\u001b[43m_input_request\u001b[49m\u001b[43m(\u001b[49m\n\u001b[0;32m   1203\u001b[0m \u001b[43m    \u001b[49m\u001b[38;5;28;43mstr\u001b[39;49m\u001b[43m(\u001b[49m\u001b[43mprompt\u001b[49m\u001b[43m)\u001b[49m\u001b[43m,\u001b[49m\n\u001b[0;32m   1204\u001b[0m \u001b[43m    \u001b[49m\u001b[38;5;28;43mself\u001b[39;49m\u001b[38;5;241;43m.\u001b[39;49m\u001b[43m_parent_ident\u001b[49m\u001b[43m[\u001b[49m\u001b[38;5;124;43m\"\u001b[39;49m\u001b[38;5;124;43mshell\u001b[39;49m\u001b[38;5;124;43m\"\u001b[39;49m\u001b[43m]\u001b[49m\u001b[43m,\u001b[49m\n\u001b[0;32m   1205\u001b[0m \u001b[43m    \u001b[49m\u001b[38;5;28;43mself\u001b[39;49m\u001b[38;5;241;43m.\u001b[39;49m\u001b[43mget_parent\u001b[49m\u001b[43m(\u001b[49m\u001b[38;5;124;43m\"\u001b[39;49m\u001b[38;5;124;43mshell\u001b[39;49m\u001b[38;5;124;43m\"\u001b[39;49m\u001b[43m)\u001b[49m\u001b[43m,\u001b[49m\n\u001b[0;32m   1206\u001b[0m \u001b[43m    \u001b[49m\u001b[43mpassword\u001b[49m\u001b[38;5;241;43m=\u001b[39;49m\u001b[38;5;28;43;01mFalse\u001b[39;49;00m\u001b[43m,\u001b[49m\n\u001b[0;32m   1207\u001b[0m \u001b[43m\u001b[49m\u001b[43m)\u001b[49m\n",
      "File \u001b[1;32m~\\AppData\\Local\\Programs\\Python\\Python39\\lib\\site-packages\\ipykernel\\kernelbase.py:1245\u001b[0m, in \u001b[0;36mKernel._input_request\u001b[1;34m(self, prompt, ident, parent, password)\u001b[0m\n\u001b[0;32m   1242\u001b[0m \u001b[38;5;28;01mexcept\u001b[39;00m \u001b[38;5;167;01mKeyboardInterrupt\u001b[39;00m:\n\u001b[0;32m   1243\u001b[0m     \u001b[38;5;66;03m# re-raise KeyboardInterrupt, to truncate traceback\u001b[39;00m\n\u001b[0;32m   1244\u001b[0m     msg \u001b[38;5;241m=\u001b[39m \u001b[38;5;124m\"\u001b[39m\u001b[38;5;124mInterrupted by user\u001b[39m\u001b[38;5;124m\"\u001b[39m\n\u001b[1;32m-> 1245\u001b[0m     \u001b[38;5;28;01mraise\u001b[39;00m \u001b[38;5;167;01mKeyboardInterrupt\u001b[39;00m(msg) \u001b[38;5;28;01mfrom\u001b[39;00m \u001b[38;5;28;01mNone\u001b[39;00m\n\u001b[0;32m   1246\u001b[0m \u001b[38;5;28;01mexcept\u001b[39;00m \u001b[38;5;167;01mException\u001b[39;00m:\n\u001b[0;32m   1247\u001b[0m     \u001b[38;5;28mself\u001b[39m\u001b[38;5;241m.\u001b[39mlog\u001b[38;5;241m.\u001b[39mwarning(\u001b[38;5;124m\"\u001b[39m\u001b[38;5;124mInvalid Message:\u001b[39m\u001b[38;5;124m\"\u001b[39m, exc_info\u001b[38;5;241m=\u001b[39m\u001b[38;5;28;01mTrue\u001b[39;00m)\n",
      "\u001b[1;31mKeyboardInterrupt\u001b[0m: Interrupted by user"
     ]
    }
   ],
   "source": [
    "def main():\n",
    "    \"\"\" Main function acts as execution point for the program \"\"\"\n",
    "\n",
    "    game_menu()\n",
    "    while main_loop:\n",
    "        play_game()\n",
    "        if turn == 0:\n",
    "            reset()\n",
    "\n",
    "if __name__ == '__main__':\n",
    "    main()"
   ]
  }
 ],
 "metadata": {
  "kernelspec": {
   "display_name": "Python 3 (ipykernel)",
   "language": "python",
   "name": "python3"
  },
  "language_info": {
   "codemirror_mode": {
    "name": "ipython",
    "version": 3
   },
   "file_extension": ".py",
   "mimetype": "text/x-python",
   "name": "python",
   "nbconvert_exporter": "python",
   "pygments_lexer": "ipython3",
   "version": "3.9.7"
  }
 },
 "nbformat": 4,
 "nbformat_minor": 5
}
